{
  "cells": [
    {
      "cell_type": "code",
      "execution_count": null,
      "metadata": {
        "colab": {
          "background_save": true
        },
        "id": "sEpOWUa6qh5t"
      },
      "outputs": [],
      "source": [
        "import random\n",
        "import string\n",
        "from random import sample\n",
        "print(\"****Password Genarator**** \")\n",
        "length=input(\"*Enter The Length of Password = \")\n",
        "\n",
        "Char = string.ascii_letters\n",
        "digits = '0123456789'\n",
        "symbol = '@#!$%&*?~'\n",
        "\n",
        "print(\"\\n*Comlexity of your password\")\n",
        "print(' 1.Normal')\n",
        "print(' 2.Strong')\n",
        "print(' 3.Very Strong')\n",
        "\n",
        "while 3<5:\n",
        "  ch=int(input('\\n Select between 1,2,3 for comlexity of your password '));\n",
        "  if ch == 1:\n",
        "    normal_password = \" \".join(random.sample(Char,int(length)))\n",
        "    print('\\n*Normal Password is = ',normal_password)\n",
        "  elif ch == 2:\n",
        "    strong_password = \" \".join(random.sample(Char+digits,int(length)))\n",
        "    print(\"\\n*Strong Password = \",strong_password)\n",
        "  elif ch == 3:\n",
        "    verystrong_password = \" \".join(random.sample(Char+digits+symbol,int(length)))\n",
        "    print(\"\\n*Very Strong Password = \",verystrong_password)\n",
        "  else:\n",
        "    strong_password = \" \".join(random.sample(Char+digits,int(length)))\n",
        "    print(\"Password\",strong_password)\n",
        "  another = input(\"\\n*Want another Password ? (yes/no) \").lower()\n",
        "  if another !='yes':\n",
        "    print(\" Thank you\")\n",
        "    break\n"
      ]
    },
    {
      "cell_type": "code",
      "execution_count": null,
      "metadata": {
        "id": "6gpHa5Ea_jmc"
      },
      "outputs": [],
      "source": []
    }
  ],
  "metadata": {
    "colab": {
      "provenance": []
    },
    "kernelspec": {
      "display_name": "Python 3",
      "name": "python3"
    },
    "language_info": {
      "name": "python"
    }
  },
  "nbformat": 4,
  "nbformat_minor": 0
}