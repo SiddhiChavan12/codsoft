{
  "nbformat": 4,
  "nbformat_minor": 0,
  "metadata": {
    "colab": {
      "provenance": []
    },
    "kernelspec": {
      "name": "python3",
      "display_name": "Python 3"
    },
    "language_info": {
      "name": "python"
    }
  },
  "cells": [
    {
      "cell_type": "code",
      "execution_count": null,
      "metadata": {
        "id": "ckB7jj59PnrD"
      },
      "outputs": [],
      "source": [
        "import random\n",
        "print(\"--------------------------Rock paper scissor game------------------------\")\n",
        "while 6<7:\n",
        "  user = input(\"\\nPlz Enter your choice between (rock, paper ,scissor) = \").lower()\n",
        "  choice = ['rock','paper','scissor']\n",
        "  computer = random.choice(choice)\n",
        "  print(\"\\nComputer's choice = \",computer)\n",
        "  if (computer == user):\n",
        "    print(\"\\nIt's a tie !! \")\n",
        "  elif (user=='paper' and computer=='rock'):\n",
        "    print(\"\\nYou Win !!\")\n",
        "  elif (user=='rock' and computer=='scissor'):\n",
        "    print(\"\\nYou Win !!\")\n",
        "  elif (user=='scissor' and computer=='paper'):\n",
        "    print(\"\\nYou Win !!\")\n",
        "  else:\n",
        "    print(\"\\nYou Loose !!\")\n",
        "  again = input(\"\\nIf you want to perform again ? (Enter yes otherwise no) \").lower()\n",
        "  if again != 'yes':\n",
        "    print(\"-----------------------Thank you for playing------------------------\")\n",
        "    break"
      ]
    },
    {
      "cell_type": "code",
      "source": [],
      "metadata": {
        "id": "stLyfgNQbS3O"
      },
      "execution_count": null,
      "outputs": []
    }
  ]
}