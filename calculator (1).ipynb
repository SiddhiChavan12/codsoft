{
  "cells": [
    {
      "cell_type": "code",
      "execution_count": 8,
      "metadata": {
        "colab": {
          "base_uri": "https://localhost:8080/"
        },
        "id": "Tb7H5PSkgVho",
        "outputId": "55a8de8e-936f-4ef9-aeb4-b6c17ff50250"
      },
      "outputs": [
        {
          "output_type": "stream",
          "name": "stdout",
          "text": [
            "------Calculator-------\n",
            "\n",
            "Plese Enter The First Number  = 50\n",
            "\n",
            "Plese Enter The Second Number = 40\n",
            "Your Numbers Are 50 40\n",
            "\n",
            "which operation you want to perform select your choice from below\n",
            "\n",
            "1.Addition\n",
            "2.Subtraction\n",
            "3.Multiplication\n",
            "4.Division\n",
            "Plese Enter your Choice  3\n",
            "\n",
            "Multiplication :\n",
            " 50 * 40 = 2000\n"
          ]
        }
      ],
      "source": [
        "print('------Calculator-------')\n",
        "num1=int(input(\"\\nPlese Enter The First Number  = \"))\n",
        "num2=int(input(\"\\nPlese Enter The Second Number = \"))\n",
        "print('Your Numbers Are',num1 , num2)\n",
        "\n",
        "print(\"\\nwhich operation you want to perform select your choice from below\")\n",
        "print(\"\\n1.Addition\")\n",
        "print(\"2.Subtraction\")\n",
        "print(\"3.Multiplication\")\n",
        "print(\"4.Division\")\n",
        "choice=(input(\"Plese Enter your Choice  \"))\n",
        "\n",
        "if choice == '1':\n",
        "  print(\"\\nAddition :\\n\",num1, \"+\", num2, \"=\", num1+num2 )\n",
        "elif choice == '2':\n",
        "  print(\"\\nSubtraction :\\n\",numl, \"-\", num2, \"=\", num1-num2)\n",
        "elif choice == '3':\n",
        "  print(\"\\nMultiplication :\\n\",num1, \"*\", num2, \"=\", num1*num2)\n",
        "elif choice == '4':\n",
        "  print(\"\\nDivison :\\n\",numl, \"/\", num2, \"=\", num1/num2 )\n",
        "else:\n",
        "  print(\"\\nInvalid Input\")\n",
        "\n"
      ]
    },
    {
      "cell_type": "code",
      "execution_count": null,
      "metadata": {
        "id": "9Gwn6NVM_Cn8"
      },
      "outputs": [],
      "source": []
    }
  ],
  "metadata": {
    "colab": {
      "provenance": []
    },
    "kernelspec": {
      "display_name": "Python 3",
      "name": "python3"
    },
    "language_info": {
      "name": "python"
    }
  },
  "nbformat": 4,
  "nbformat_minor": 0
}